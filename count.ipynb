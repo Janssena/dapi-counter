{
 "cells": [
  {
   "cell_type": "code",
   "execution_count": 28,
   "metadata": {},
   "outputs": [],
   "source": [
    "import os\n",
    "import cv2\n",
    "import glob\n",
    "import numpy as np\n",
    "from definitions import PATH\n",
    "import matplotlib.pyplot as plt\n",
    "from data_farming.helpers import csv_to_df"
   ]
  },
  {
   "cell_type": "code",
   "execution_count": 51,
   "metadata": {},
   "outputs": [],
   "source": [
    "def check(image, locations, count):\n",
    "    \"\"\" function that checks if the data is loaded correctly \"\"\"\n",
    "    img_tmp = cv2.imread(image)\n",
    "    plt.imshow(img_tmp)\n",
    "    x = [loc[0] for loc in locations]\n",
    "    y = [loc[1] for loc in locations]\n",
    "    plt.plot(x, y, 'yX')\n",
    "    plt.axis('off')\n",
    "    plt.show()"
   ]
  },
  {
   "cell_type": "code",
   "execution_count": 52,
   "metadata": {},
   "outputs": [],
   "source": [
    "# get csv and shuffle\n",
    "df = csv_to_df(definitions.PATH['CSV'])\n",
    "df_shuffle = df.sample(frac=1).reset_index(drop=True)"
   ]
  },
  {
   "cell_type": "code",
   "execution_count": 53,
   "metadata": {},
   "outputs": [],
   "source": [
    "data = []\n",
    "labels = []\n",
    "locs = []"
   ]
  },
  {
   "cell_type": "code",
   "execution_count": 60,
   "metadata": {},
   "outputs": [],
   "source": [
    "for i, image in enumerate(df_shuffle['name']):\n",
    "    im_path = os.path.join(definitions.PATH['BINARY_MAPS'] + image.replace('.png', '_pred.png'))\n",
    "    img = cv2.imread(im_path)\n",
    "    data.append(img)\n",
    "    label = df_shuffle['count'][i]\n",
    "    loc = df_shuffle['locations'][i]\n",
    "    labels.append(label)\n",
    "    locs.append(loc)"
   ]
  },
  {
   "cell_type": "code",
   "execution_count": 72,
   "metadata": {},
   "outputs": [
    {
     "data": {
      "image/png": "[encoded data removed]",
      "text/plain": [
       "<Figure size 432x288 with 1 Axes>"
      ]
     },
     "metadata": {
      "needs_background": "light"
     },
     "output_type": "display_data"
    }
   ],
   "source": [
    "plt.imshow(data[0])\n",
    "locations = locs[0]\n",
    "x = [loc[0] for loc in locations]\n",
    "y = [loc[1] for loc in locations]\n",
    "plt.plot(x, y, 'rX')\n",
    "plt.show()"
   ]
  },
  {
   "cell_type": "code",
   "execution_count": null,
   "metadata": {},
   "outputs": [],
   "source": []
  }
 ],
 "metadata": {
  "kernelspec": {
   "display_name": "Python 3",
   "language": "python",
   "name": "python3"
  },
  "language_info": {
   "codemirror_mode": {
    "name": "ipython",
    "version": 3
   },
   "file_extension": ".py",
   "mimetype": "text/x-python",
   "name": "python",
   "nbconvert_exporter": "python",
   "pygments_lexer": "ipython3",
   "version": "3.7.5"
  }
 },
 "nbformat": 4,
 "nbformat_minor": 2
}
